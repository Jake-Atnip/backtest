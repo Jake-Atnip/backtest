{
 "cells": [
  {
   "cell_type": "code",
   "execution_count": 16,
   "metadata": {},
   "outputs": [],
   "source": [
    "import pandas as pd\n",
    "from backtest import *"
   ]
  },
  {
   "cell_type": "code",
   "execution_count": 2,
   "metadata": {},
   "outputs": [],
   "source": [
    "data_series = pd.read_hdf('/home/jacob/Desktop/Files/Personal_Files/Python/backtester/Testing files/testing_data/SPYTLT_test_data.h5',key = 'data')"
   ]
  },
  {
   "cell_type": "code",
   "execution_count": 19,
   "metadata": {},
   "outputs": [
    {
     "data": {
      "text/plain": [
       "Index(['SPY', 'TLT'], dtype='object')"
      ]
     },
     "execution_count": 19,
     "metadata": {},
     "output_type": "execute_result"
    }
   ],
   "source": [
    "data_series.index"
   ]
  },
  {
   "cell_type": "code",
   "execution_count": 4,
   "metadata": {},
   "outputs": [
    {
     "data": {
      "text/html": [
       "<div>\n",
       "<style scoped>\n",
       "    .dataframe tbody tr th:only-of-type {\n",
       "        vertical-align: middle;\n",
       "    }\n",
       "\n",
       "    .dataframe tbody tr th {\n",
       "        vertical-align: top;\n",
       "    }\n",
       "\n",
       "    .dataframe thead th {\n",
       "        text-align: right;\n",
       "    }\n",
       "</style>\n",
       "<table border=\"1\" class=\"dataframe\">\n",
       "  <thead>\n",
       "    <tr style=\"text-align: right;\">\n",
       "      <th></th>\n",
       "      <th>open</th>\n",
       "      <th>close</th>\n",
       "    </tr>\n",
       "    <tr>\n",
       "      <th>Date</th>\n",
       "      <th></th>\n",
       "      <th></th>\n",
       "    </tr>\n",
       "  </thead>\n",
       "  <tbody>\n",
       "    <tr>\n",
       "      <th>2002-07-30</th>\n",
       "      <td>89.320000</td>\n",
       "      <td>63.001911</td>\n",
       "    </tr>\n",
       "    <tr>\n",
       "      <th>2002-07-31</th>\n",
       "      <td>90.489998</td>\n",
       "      <td>63.154285</td>\n",
       "    </tr>\n",
       "    <tr>\n",
       "      <th>2002-08-01</th>\n",
       "      <td>90.879997</td>\n",
       "      <td>61.505451</td>\n",
       "    </tr>\n",
       "    <tr>\n",
       "      <th>2002-08-02</th>\n",
       "      <td>88.500000</td>\n",
       "      <td>60.126820</td>\n",
       "    </tr>\n",
       "    <tr>\n",
       "      <th>2002-08-05</th>\n",
       "      <td>86.489998</td>\n",
       "      <td>58.034615</td>\n",
       "    </tr>\n",
       "    <tr>\n",
       "      <th>...</th>\n",
       "      <td>...</td>\n",
       "      <td>...</td>\n",
       "    </tr>\n",
       "    <tr>\n",
       "      <th>2021-04-09</th>\n",
       "      <td>408.390015</td>\n",
       "      <td>411.489990</td>\n",
       "    </tr>\n",
       "    <tr>\n",
       "      <th>2021-04-12</th>\n",
       "      <td>410.850006</td>\n",
       "      <td>411.640015</td>\n",
       "    </tr>\n",
       "    <tr>\n",
       "      <th>2021-04-13</th>\n",
       "      <td>411.529999</td>\n",
       "      <td>412.859985</td>\n",
       "    </tr>\n",
       "    <tr>\n",
       "      <th>2021-04-14</th>\n",
       "      <td>412.829987</td>\n",
       "      <td>411.450012</td>\n",
       "    </tr>\n",
       "    <tr>\n",
       "      <th>2021-04-15</th>\n",
       "      <td>413.739990</td>\n",
       "      <td>415.869995</td>\n",
       "    </tr>\n",
       "  </tbody>\n",
       "</table>\n",
       "<p>4711 rows × 2 columns</p>\n",
       "</div>"
      ],
      "text/plain": [
       "                  open       close\n",
       "Date                              \n",
       "2002-07-30   89.320000   63.001911\n",
       "2002-07-31   90.489998   63.154285\n",
       "2002-08-01   90.879997   61.505451\n",
       "2002-08-02   88.500000   60.126820\n",
       "2002-08-05   86.489998   58.034615\n",
       "...                ...         ...\n",
       "2021-04-09  408.390015  411.489990\n",
       "2021-04-12  410.850006  411.640015\n",
       "2021-04-13  411.529999  412.859985\n",
       "2021-04-14  412.829987  411.450012\n",
       "2021-04-15  413.739990  415.869995\n",
       "\n",
       "[4711 rows x 2 columns]"
      ]
     },
     "execution_count": 4,
     "metadata": {},
     "output_type": "execute_result"
    }
   ],
   "source": [
    "data_series['SPY']"
   ]
  },
  {
   "cell_type": "code",
   "execution_count": 20,
   "metadata": {},
   "outputs": [
    {
     "name": "stderr",
     "output_type": "stream",
     "text": [
      "100%|██████████| 4711/4711 [00:18<00:00, 249.02it/s]\n"
     ]
    }
   ],
   "source": [
    "class Stock_Bond_Portfolio(Strategy):\n",
    "    \n",
    "    def strategy_logic_begin(self):\n",
    "        pass\n",
    "    \n",
    "    def strategy_logic_end(self):\n",
    "        if 'SPY' not in self.portfolio.positions and 'TLT' not in self.portfolio.positions:\n",
    "            self.execution.market_order('SPY',100,'close')\n",
    "            self.execution.market_order('TLT',100,'close')\n",
    "        \n",
    "\n",
    "test = Backtest(strategy = Stock_Bond_Portfolio)\n",
    "test.datahandler.add_data_series(data_series)\n",
    "test.test_strategy(bars_to_load = 200,cash = 1000000)"
   ]
  },
  {
   "cell_type": "code",
   "execution_count": 21,
   "metadata": {},
   "outputs": [
    {
     "data": {
      "text/plain": [
       "<AxesSubplot:>"
      ]
     },
     "execution_count": 21,
     "metadata": {},
     "output_type": "execute_result"
    },
    {
     "data": {
      "image/png": "[encoded data removed]",
      "text/plain": [
       "<Figure size 720x432 with 1 Axes>"
      ]
     },
     "metadata": {
      "needs_background": "light"
     },
     "output_type": "display_data"
    }
   ],
   "source": [
    "test.account.account_results.value.plot(figsize = (10,6))"
   ]
  },
  {
   "cell_type": "code",
   "execution_count": 22,
   "metadata": {},
   "outputs": [
    {
     "data": {
      "text/html": [
       "<div>\n",
       "<style scoped>\n",
       "    .dataframe tbody tr th:only-of-type {\n",
       "        vertical-align: middle;\n",
       "    }\n",
       "\n",
       "    .dataframe tbody tr th {\n",
       "        vertical-align: top;\n",
       "    }\n",
       "\n",
       "    .dataframe thead th {\n",
       "        text-align: right;\n",
       "    }\n",
       "</style>\n",
       "<table border=\"1\" class=\"dataframe\">\n",
       "  <thead>\n",
       "    <tr style=\"text-align: right;\">\n",
       "      <th></th>\n",
       "      <th>assets</th>\n",
       "      <th>liabilities</th>\n",
       "      <th>equity</th>\n",
       "    </tr>\n",
       "  </thead>\n",
       "  <tbody>\n",
       "    <tr>\n",
       "      <th>2002-07-30</th>\n",
       "      <td>{'cash': 1000000}</td>\n",
       "      <td>{'borrowed funds': 0}</td>\n",
       "      <td>{'account value': 1000000}</td>\n",
       "    </tr>\n",
       "    <tr>\n",
       "      <th>2002-07-31</th>\n",
       "      <td>{'cash': 989361.8115, 'SPY': {'value': 6315.42...</td>\n",
       "      <td>{'borrowed funds': 0}</td>\n",
       "      <td>{'account value': 1000000}</td>\n",
       "    </tr>\n",
       "    <tr>\n",
       "      <th>2002-08-01</th>\n",
       "      <td>{'cash': 989502.0748000001, 'SPY': {'value': 6...</td>\n",
       "      <td>{'borrowed funds': 0}</td>\n",
       "      <td>{'account value': 1000000.0}</td>\n",
       "    </tr>\n",
       "    <tr>\n",
       "      <th>2002-08-02</th>\n",
       "      <td>{'cash': 989595.4155, 'SPY': {'value': 6012.68...</td>\n",
       "      <td>{'borrowed funds': 0}</td>\n",
       "      <td>{'account value': 1000000.0}</td>\n",
       "    </tr>\n",
       "    <tr>\n",
       "      <th>2002-08-05</th>\n",
       "      <td>{'cash': 989785.2558, 'SPY': {'value': 5803.46...</td>\n",
       "      <td>{'borrowed funds': 0}</td>\n",
       "      <td>{'account value': 1000000.0}</td>\n",
       "    </tr>\n",
       "    <tr>\n",
       "      <th>...</th>\n",
       "      <td>...</td>\n",
       "      <td>...</td>\n",
       "      <td>...</td>\n",
       "    </tr>\n",
       "    <tr>\n",
       "      <th>2021-04-09</th>\n",
       "      <td>{'cash': 988375.1503, 'SPY': {'value': 41148.9...</td>\n",
       "      <td>{'borrowed funds': 0}</td>\n",
       "      <td>{'account value': 1043275.1488}</td>\n",
       "    </tr>\n",
       "    <tr>\n",
       "      <th>2021-04-12</th>\n",
       "      <td>{'cash': 988375.1503, 'SPY': {'value': 41164.0...</td>\n",
       "      <td>{'borrowed funds': 0}</td>\n",
       "      <td>{'account value': 1043284.1514999999}</td>\n",
       "    </tr>\n",
       "    <tr>\n",
       "      <th>2021-04-13</th>\n",
       "      <td>{'cash': 988375.1503, 'SPY': {'value': 41285.9...</td>\n",
       "      <td>{'borrowed funds': 0}</td>\n",
       "      <td>{'account value': 1043509.1484}</td>\n",
       "    </tr>\n",
       "    <tr>\n",
       "      <th>2021-04-14</th>\n",
       "      <td>{'cash': 988375.1503, 'SPY': {'value': 41145.0...</td>\n",
       "      <td>{'borrowed funds': 0}</td>\n",
       "      <td>{'account value': 1043324.1508}</td>\n",
       "    </tr>\n",
       "    <tr>\n",
       "      <th>2021-04-15</th>\n",
       "      <td>{'cash': 988375.1503, 'SPY': {'value': 41586.9...</td>\n",
       "      <td>{'borrowed funds': 0}</td>\n",
       "      <td>{'account value': 1043997.1503999999}</td>\n",
       "    </tr>\n",
       "  </tbody>\n",
       "</table>\n",
       "<p>4711 rows × 3 columns</p>\n",
       "</div>"
      ],
      "text/plain": [
       "                                                       assets  \\\n",
       "2002-07-30                                  {'cash': 1000000}   \n",
       "2002-07-31  {'cash': 989361.8115, 'SPY': {'value': 6315.42...   \n",
       "2002-08-01  {'cash': 989502.0748000001, 'SPY': {'value': 6...   \n",
       "2002-08-02  {'cash': 989595.4155, 'SPY': {'value': 6012.68...   \n",
       "2002-08-05  {'cash': 989785.2558, 'SPY': {'value': 5803.46...   \n",
       "...                                                       ...   \n",
       "2021-04-09  {'cash': 988375.1503, 'SPY': {'value': 41148.9...   \n",
       "2021-04-12  {'cash': 988375.1503, 'SPY': {'value': 41164.0...   \n",
       "2021-04-13  {'cash': 988375.1503, 'SPY': {'value': 41285.9...   \n",
       "2021-04-14  {'cash': 988375.1503, 'SPY': {'value': 41145.0...   \n",
       "2021-04-15  {'cash': 988375.1503, 'SPY': {'value': 41586.9...   \n",
       "\n",
       "                      liabilities                                 equity  \n",
       "2002-07-30  {'borrowed funds': 0}             {'account value': 1000000}  \n",
       "2002-07-31  {'borrowed funds': 0}             {'account value': 1000000}  \n",
       "2002-08-01  {'borrowed funds': 0}           {'account value': 1000000.0}  \n",
       "2002-08-02  {'borrowed funds': 0}           {'account value': 1000000.0}  \n",
       "2002-08-05  {'borrowed funds': 0}           {'account value': 1000000.0}  \n",
       "...                           ...                                    ...  \n",
       "2021-04-09  {'borrowed funds': 0}        {'account value': 1043275.1488}  \n",
       "2021-04-12  {'borrowed funds': 0}  {'account value': 1043284.1514999999}  \n",
       "2021-04-13  {'borrowed funds': 0}        {'account value': 1043509.1484}  \n",
       "2021-04-14  {'borrowed funds': 0}        {'account value': 1043324.1508}  \n",
       "2021-04-15  {'borrowed funds': 0}  {'account value': 1043997.1503999999}  \n",
       "\n",
       "[4711 rows x 3 columns]"
      ]
     },
     "execution_count": 22,
     "metadata": {},
     "output_type": "execute_result"
    }
   ],
   "source": [
    "test.account.account_history.to_excel('')"
   ]
  },
  {
   "cell_type": "code",
   "execution_count": 13,
   "metadata": {},
   "outputs": [
    {
     "data": {
      "text/plain": [
       "{'cash': 989308.2069,\n",
       " 'SPY': {'value': 6163.7108,\n",
       "  'quantity': 100,\n",
       "  'start of position': Timestamp('2002-08-13 00:00:00'),\n",
       "  'most recent order': {'Order ID': 18,\n",
       "   'date of placement': Timestamp('2002-08-13 00:00:00'),\n",
       "   'time of placement': 'end',\n",
       "   'order type': 'market',\n",
       "   'symbol': 'SPY',\n",
       "   'quantity': 100,\n",
       "   'desired execution time': 'close',\n",
       "   'execution price': 61.637108,\n",
       "   'date of execution': Timestamp('2002-08-13 00:00:00'),\n",
       "   'execution side': 'end'},\n",
       "  'cost basis': 6163.7108,\n",
       "  'ladder': [(100, 61.637108)]},\n",
       " 'TLT': {'value': 4528.0823,\n",
       "  'quantity': 100,\n",
       "  'start of position': Timestamp('2002-08-13 00:00:00'),\n",
       "  'most recent order': {'Order ID': 19,\n",
       "   'date of placement': Timestamp('2002-08-13 00:00:00'),\n",
       "   'time of placement': 'end',\n",
       "   'order type': 'market',\n",
       "   'symbol': 'TLT',\n",
       "   'quantity': 100,\n",
       "   'desired execution time': 'close',\n",
       "   'execution price': 45.280823,\n",
       "   'date of execution': Timestamp('2002-08-13 00:00:00'),\n",
       "   'execution side': 'end'},\n",
       "  'cost basis': 4528.0823,\n",
       "  'ladder': [(100, 45.280823)]}}"
      ]
     },
     "execution_count": 13,
     "metadata": {},
     "output_type": "execute_result"
    }
   ],
   "source": [
    "test.account.account_history['assets'][10]"
   ]
  },
  {
   "cell_type": "code",
   "execution_count": null,
   "metadata": {},
   "outputs": [],
   "source": []
  }
 ],
 "metadata": {
  "kernelspec": {
   "display_name": "Python 3",
   "language": "python",
   "name": "python3"
  },
  "language_info": {
   "codemirror_mode": {
    "name": "ipython",
    "version": 3
   },
   "file_extension": ".py",
   "mimetype": "text/x-python",
   "name": "python",
   "nbconvert_exporter": "python",
   "pygments_lexer": "ipython3",
   "version": "3.8.5"
  }
 },
 "nbformat": 4,
 "nbformat_minor": 4
}
